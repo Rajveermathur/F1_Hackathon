{
 "cells": [
  {
   "cell_type": "code",
   "execution_count": 1,
   "id": "7ea63e0d",
   "metadata": {
    "execution": {
     "iopub.execute_input": "2025-05-05T19:58:47.455512Z",
     "iopub.status.busy": "2025-05-05T19:58:47.455224Z",
     "iopub.status.idle": "2025-05-05T19:58:47.904512Z",
     "shell.execute_reply": "2025-05-05T19:58:47.903636Z"
    },
    "papermill": {
     "duration": 0.454632,
     "end_time": "2025-05-05T19:58:47.905838",
     "exception": false,
     "start_time": "2025-05-05T19:58:47.451206",
     "status": "completed"
    },
    "tags": []
   },
   "outputs": [
    {
     "name": "stdout",
     "output_type": "stream",
     "text": [
      "Path to dataset files: /kaggle/input/formula-1-world-championship-1950-2020\n"
     ]
    }
   ],
   "source": [
    "import kagglehub\n",
    "\n",
    "# Download latest version\n",
    "path = kagglehub.dataset_download(\"rohanrao/formula-1-world-championship-1950-2020\")\n",
    "print(\"Path to dataset files:\", path)"
   ]
  },
  {
   "cell_type": "code",
   "execution_count": 2,
   "id": "56bf86f7",
   "metadata": {
    "_kg_hide-output": true,
    "execution": {
     "iopub.execute_input": "2025-05-05T19:58:47.912020Z",
     "iopub.status.busy": "2025-05-05T19:58:47.911771Z",
     "iopub.status.idle": "2025-05-05T19:58:50.591996Z",
     "shell.execute_reply": "2025-05-05T19:58:50.591244Z"
    },
    "papermill": {
     "duration": 2.684857,
     "end_time": "2025-05-05T19:58:50.593508",
     "exception": false,
     "start_time": "2025-05-05T19:58:47.908651",
     "status": "completed"
    },
    "scrolled": true,
    "tags": []
   },
   "outputs": [],
   "source": [
    "import os\n",
    "import pandas as pd\n",
    "\n",
    "# Path to the dataset folder\n",
    "data_path = \"/kaggle/input/formula-1-world-championship-1950-2020\"\n",
    "\n",
    "# Automatically list all CSV files\n",
    "csv_files = [file for file in os.listdir(data_path) if file.endswith('.csv')]\n",
    "\n",
    "dataframes = {file.replace('.csv', ''): pd.read_csv(os.path.join(data_path, file)) for file in csv_files}\n",
    "# print(dataframes)\n"
   ]
  },
  {
   "cell_type": "code",
   "execution_count": 3,
   "id": "e728c9aa",
   "metadata": {
    "execution": {
     "iopub.execute_input": "2025-05-05T19:58:50.601668Z",
     "iopub.status.busy": "2025-05-05T19:58:50.601389Z",
     "iopub.status.idle": "2025-05-05T19:58:50.606005Z",
     "shell.execute_reply": "2025-05-05T19:58:50.605300Z"
    },
    "papermill": {
     "duration": 0.009383,
     "end_time": "2025-05-05T19:58:50.607270",
     "exception": false,
     "start_time": "2025-05-05T19:58:50.597887",
     "status": "completed"
    },
    "tags": []
   },
   "outputs": [],
   "source": [
    "df1 = dataframes['results'] \n",
    "df2 = dataframes['races']   \n",
    "df3 = dataframes['drivers'] \n",
    "df4 = dataframes['circuits']\n",
    "df5 = dataframes['status']\n",
    "df6 = dataframes['constructors']\n",
    "df7 = dataframes['pit_stops']\n",
    "df8 = dataframes['lap_times']\n",
    "df9 =dataframes['driver_standings']"
   ]
  },
  {
   "cell_type": "code",
   "execution_count": 4,
   "id": "75219a89",
   "metadata": {
    "execution": {
     "iopub.execute_input": "2025-05-05T19:58:50.613848Z",
     "iopub.status.busy": "2025-05-05T19:58:50.613386Z",
     "iopub.status.idle": "2025-05-05T19:58:50.655245Z",
     "shell.execute_reply": "2025-05-05T19:58:50.654416Z"
    },
    "papermill": {
     "duration": 0.046797,
     "end_time": "2025-05-05T19:58:50.656598",
     "exception": false,
     "start_time": "2025-05-05T19:58:50.609801",
     "status": "completed"
    },
    "tags": []
   },
   "outputs": [
    {
     "name": "stdout",
     "output_type": "stream",
     "text": [
      "(26759, 35)\n"
     ]
    },
    {
     "data": {
      "text/plain": [
       "year\n",
       "2024    23\n",
       "2021    22\n",
       "2022    22\n",
       "2023    22\n",
       "2016    21\n",
       "2018    21\n",
       "2019    21\n",
       "2017    20\n",
       "2015    19\n",
       "2020    17\n",
       "Name: count, dtype: int64"
      ]
     },
     "execution_count": 4,
     "metadata": {},
     "output_type": "execute_result"
    }
   ],
   "source": [
    "df12 = pd.merge(df1, df2, on='raceId', how='left')\n",
    "df = pd.DataFrame()\n",
    "print(df12.shape)\n",
    "df12[df12['driverId']==832]['year'].value_counts()\n",
    "# df12.head()"
   ]
  },
  {
   "cell_type": "code",
   "execution_count": 5,
   "id": "d74c3133",
   "metadata": {
    "execution": {
     "iopub.execute_input": "2025-05-05T19:58:50.662613Z",
     "iopub.status.busy": "2025-05-05T19:58:50.662041Z",
     "iopub.status.idle": "2025-05-05T19:58:50.680341Z",
     "shell.execute_reply": "2025-05-05T19:58:50.679366Z"
    },
    "papermill": {
     "duration": 0.023236,
     "end_time": "2025-05-05T19:58:50.682339",
     "exception": false,
     "start_time": "2025-05-05T19:58:50.659103",
     "status": "completed"
    },
    "tags": []
   },
   "outputs": [
    {
     "data": {
      "text/plain": [
       "<bound method NDFrame.describe of        resultId  raceId  driverId  constructorId number  grid position  \\\n",
       "0             1      18         1              1     22     1        1   \n",
       "1             2      18         2              2      3     5        2   \n",
       "2             3      18         3              3      7     7        3   \n",
       "3             4      18         4              4      5    11        4   \n",
       "4             5      18         5              1     23     3        5   \n",
       "...         ...     ...       ...            ...    ...   ...      ...   \n",
       "26754     26760    1144       825            210     20    14       16   \n",
       "26755     26761    1144       859            215     30    12       17   \n",
       "26756     26762    1144       822             15     77     9       \\N   \n",
       "26757     26763    1144       861              3     43    20       \\N   \n",
       "26758     26764    1144       815              9     11    10       \\N   \n",
       "\n",
       "      positionText  positionOrder  points  laps         time milliseconds  \\\n",
       "0                1              1    10.0    58  1:34:50.616      5690616   \n",
       "1                2              2     8.0    58       +5.478      5696094   \n",
       "2                3              3     6.0    58       +8.163      5698779   \n",
       "3                4              4     5.0    58      +17.181      5707797   \n",
       "4                5              5     4.0    58      +18.014      5708630   \n",
       "...            ...            ...     ...   ...          ...          ...   \n",
       "26754           16             16     0.0    57           \\N           \\N   \n",
       "26755           17             17     0.0    55           \\N           \\N   \n",
       "26756            R             18     0.0    30           \\N           \\N   \n",
       "26757            R             19     0.0    26           \\N           \\N   \n",
       "26758            R             20     0.0     0           \\N           \\N   \n",
       "\n",
       "      fastestLap rank fastestLapTime fastestLapSpeed  statusId  \n",
       "0             39    2       1:27.452         218.300         1  \n",
       "1             41    3       1:27.739         217.586         1  \n",
       "2             41    5       1:28.090         216.719         1  \n",
       "3             58    7       1:28.603         215.464         1  \n",
       "4             43    1       1:27.418         218.385         1  \n",
       "...          ...  ...            ...             ...       ...  \n",
       "26754         57    1       1:25.637         222.002        11  \n",
       "26755         52   12       1:28.751         214.212         5  \n",
       "26756         14   19       1:29.482         212.462       130  \n",
       "26757          5   17       1:29.411         212.631         5  \n",
       "26758         \\N    0             \\N              \\N         4  \n",
       "\n",
       "[26759 rows x 18 columns]>"
      ]
     },
     "execution_count": 5,
     "metadata": {},
     "output_type": "execute_result"
    }
   ],
   "source": [
    "df1.describe"
   ]
  },
  {
   "cell_type": "code",
   "execution_count": 6,
   "id": "920eaee9",
   "metadata": {
    "execution": {
     "iopub.execute_input": "2025-05-05T19:58:50.689472Z",
     "iopub.status.busy": "2025-05-05T19:58:50.689083Z",
     "iopub.status.idle": "2025-05-05T19:58:54.998987Z",
     "shell.execute_reply": "2025-05-05T19:58:54.998239Z"
    },
    "papermill": {
     "duration": 4.315127,
     "end_time": "2025-05-05T19:58:55.000546",
     "exception": false,
     "start_time": "2025-05-05T19:58:50.685419",
     "status": "completed"
    },
    "tags": []
   },
   "outputs": [],
   "source": [
    "# print(df1.shape)\n",
    "# print(df2.shape)\n",
    "df12 = pd.merge(df1, df2, on='raceId', how='left')\n",
    "df123 = pd.merge(df12, df3, on='driverId', how='left')\n",
    "df1234 = pd.merge(df123, df4, on='circuitId', how='left')\n",
    "df12345 = pd.merge(df1234, df5, on='statusId', how='left')\n",
    "df123456 = pd.merge(df12345, df6, on='constructorId', how='left', suffixes=('_3', '_4'))\n",
    "df1234567 = pd.merge(df12345, df7, on=['raceId', 'driverId'], how='left')\n",
    "df12345678 = pd.merge(df1234567, df8, on=['raceId', 'driverId'], how='left', suffixes=('_3', '_4'))\n",
    "df123456789 = pd.merge(df12345678, df9, on=['raceId', 'driverId'], how='left')\n",
    "# df1234.to_csv('dataset.csv', index=False)"
   ]
  },
  {
   "cell_type": "code",
   "execution_count": 7,
   "id": "1a7f9b11",
   "metadata": {
    "execution": {
     "iopub.execute_input": "2025-05-05T19:58:55.008494Z",
     "iopub.status.busy": "2025-05-05T19:58:55.007920Z",
     "iopub.status.idle": "2025-05-05T19:58:55.018870Z",
     "shell.execute_reply": "2025-05-05T19:58:55.017987Z"
    },
    "papermill": {
     "duration": 0.01564,
     "end_time": "2025-05-05T19:58:55.020241",
     "exception": false,
     "start_time": "2025-05-05T19:58:55.004601",
     "status": "completed"
    },
    "tags": []
   },
   "outputs": [
    {
     "name": "stdout",
     "output_type": "stream",
     "text": [
      "Unable to run zip command!\n",
      "\n"
     ]
    }
   ],
   "source": [
    "import os\n",
    "import subprocess\n",
    "from IPython.display import FileLink, display\n",
    "\n",
    "def download_file(path, download_file_name):\n",
    "    os.chdir('/kaggle/working/')\n",
    "    zip_name = f\"/kaggle/working/{download_file_name}.zip\"\n",
    "    command = f\"zip {zip_name} {path} -r\"\n",
    "    result = subprocess.run(command, shell=True, capture_output=True, text=True)\n",
    "    if result.returncode != 0:\n",
    "        print(\"Unable to run zip command!\")\n",
    "        print(result.stderr)\n",
    "        return\n",
    "    display(FileLink(f'{download_file_name}.zip'))\n",
    "\n",
    "download_file('dataset.csv', 'out')"
   ]
  },
  {
   "cell_type": "code",
   "execution_count": 8,
   "id": "a80d8963",
   "metadata": {
    "execution": {
     "iopub.execute_input": "2025-05-05T19:58:55.027285Z",
     "iopub.status.busy": "2025-05-05T19:58:55.026593Z",
     "iopub.status.idle": "2025-05-05T19:58:55.031727Z",
     "shell.execute_reply": "2025-05-05T19:58:55.031094Z"
    },
    "papermill": {
     "duration": 0.009776,
     "end_time": "2025-05-05T19:58:55.032868",
     "exception": false,
     "start_time": "2025-05-05T19:58:55.023092",
     "status": "completed"
    },
    "tags": []
   },
   "outputs": [
    {
     "data": {
      "text/plain": [
       "(26759, 56)"
      ]
     },
     "execution_count": 8,
     "metadata": {},
     "output_type": "execute_result"
    }
   ],
   "source": [
    "df123456.shape"
   ]
  },
  {
   "cell_type": "code",
   "execution_count": 9,
   "id": "3ead52fc",
   "metadata": {
    "execution": {
     "iopub.execute_input": "2025-05-05T19:58:55.039745Z",
     "iopub.status.busy": "2025-05-05T19:58:55.039128Z",
     "iopub.status.idle": "2025-05-05T19:58:55.716092Z",
     "shell.execute_reply": "2025-05-05T19:58:55.715390Z"
    },
    "papermill": {
     "duration": 0.68182,
     "end_time": "2025-05-05T19:58:55.717559",
     "exception": false,
     "start_time": "2025-05-05T19:58:55.035739",
     "status": "completed"
    },
    "tags": []
   },
   "outputs": [],
   "source": [
    "df123456.head()\n",
    "df123456.to_csv('dataset.csv', index=False)"
   ]
  },
  {
   "cell_type": "code",
   "execution_count": 10,
   "id": "c696497e",
   "metadata": {
    "execution": {
     "iopub.execute_input": "2025-05-05T19:58:55.724912Z",
     "iopub.status.busy": "2025-05-05T19:58:55.724421Z",
     "iopub.status.idle": "2025-05-05T19:58:55.751974Z",
     "shell.execute_reply": "2025-05-05T19:58:55.751068Z"
    },
    "papermill": {
     "duration": 0.032641,
     "end_time": "2025-05-05T19:58:55.753373",
     "exception": false,
     "start_time": "2025-05-05T19:58:55.720732",
     "status": "completed"
    },
    "tags": []
   },
   "outputs": [
    {
     "name": "stderr",
     "output_type": "stream",
     "text": [
      "/usr/local/lib/python3.11/dist-packages/pandas/io/formats/format.py:1458: RuntimeWarning: invalid value encountered in greater\n",
      "  has_large_values = (abs_vals > 1e6).any()\n",
      "/usr/local/lib/python3.11/dist-packages/pandas/io/formats/format.py:1459: RuntimeWarning: invalid value encountered in less\n",
      "  has_small_values = ((abs_vals < 10 ** (-self.digits)) & (abs_vals > 0)).any()\n",
      "/usr/local/lib/python3.11/dist-packages/pandas/io/formats/format.py:1459: RuntimeWarning: invalid value encountered in greater\n",
      "  has_small_values = ((abs_vals < 10 ** (-self.digits)) & (abs_vals > 0)).any()\n",
      "/usr/local/lib/python3.11/dist-packages/pandas/io/formats/format.py:1458: RuntimeWarning: invalid value encountered in greater\n",
      "  has_large_values = (abs_vals > 1e6).any()\n",
      "/usr/local/lib/python3.11/dist-packages/pandas/io/formats/format.py:1459: RuntimeWarning: invalid value encountered in less\n",
      "  has_small_values = ((abs_vals < 10 ** (-self.digits)) & (abs_vals > 0)).any()\n",
      "/usr/local/lib/python3.11/dist-packages/pandas/io/formats/format.py:1459: RuntimeWarning: invalid value encountered in greater\n",
      "  has_small_values = ((abs_vals < 10 ** (-self.digits)) & (abs_vals > 0)).any()\n"
     ]
    },
    {
     "data": {
      "text/html": [
       "<div>\n",
       "<style scoped>\n",
       "    .dataframe tbody tr th:only-of-type {\n",
       "        vertical-align: middle;\n",
       "    }\n",
       "\n",
       "    .dataframe tbody tr th {\n",
       "        vertical-align: top;\n",
       "    }\n",
       "\n",
       "    .dataframe thead th {\n",
       "        text-align: right;\n",
       "    }\n",
       "</style>\n",
       "<table border=\"1\" class=\"dataframe\">\n",
       "  <thead>\n",
       "    <tr style=\"text-align: right;\">\n",
       "      <th></th>\n",
       "      <th>resultId</th>\n",
       "      <th>raceId</th>\n",
       "      <th>driverId</th>\n",
       "      <th>constructorId</th>\n",
       "      <th>number_x</th>\n",
       "      <th>grid</th>\n",
       "      <th>position_3</th>\n",
       "      <th>positionText_x</th>\n",
       "      <th>positionOrder</th>\n",
       "      <th>points_x</th>\n",
       "      <th>...</th>\n",
       "      <th>milliseconds_y</th>\n",
       "      <th>lap_4</th>\n",
       "      <th>position_4</th>\n",
       "      <th>time_4</th>\n",
       "      <th>milliseconds</th>\n",
       "      <th>driverStandingsId</th>\n",
       "      <th>points_y</th>\n",
       "      <th>position</th>\n",
       "      <th>positionText_y</th>\n",
       "      <th>wins</th>\n",
       "    </tr>\n",
       "  </thead>\n",
       "  <tbody>\n",
       "    <tr>\n",
       "      <th>0</th>\n",
       "      <td>1</td>\n",
       "      <td>18</td>\n",
       "      <td>1</td>\n",
       "      <td>1</td>\n",
       "      <td>22</td>\n",
       "      <td>1</td>\n",
       "      <td>1</td>\n",
       "      <td>1</td>\n",
       "      <td>1</td>\n",
       "      <td>10.0</td>\n",
       "      <td>...</td>\n",
       "      <td>NaN</td>\n",
       "      <td>1.0</td>\n",
       "      <td>1.0</td>\n",
       "      <td>2:01.465</td>\n",
       "      <td>121465.0</td>\n",
       "      <td>1.0</td>\n",
       "      <td>10.0</td>\n",
       "      <td>1.0</td>\n",
       "      <td>1</td>\n",
       "      <td>1.0</td>\n",
       "    </tr>\n",
       "    <tr>\n",
       "      <th>1</th>\n",
       "      <td>1</td>\n",
       "      <td>18</td>\n",
       "      <td>1</td>\n",
       "      <td>1</td>\n",
       "      <td>22</td>\n",
       "      <td>1</td>\n",
       "      <td>1</td>\n",
       "      <td>1</td>\n",
       "      <td>1</td>\n",
       "      <td>10.0</td>\n",
       "      <td>...</td>\n",
       "      <td>NaN</td>\n",
       "      <td>2.0</td>\n",
       "      <td>1.0</td>\n",
       "      <td>2:32.471</td>\n",
       "      <td>152471.0</td>\n",
       "      <td>1.0</td>\n",
       "      <td>10.0</td>\n",
       "      <td>1.0</td>\n",
       "      <td>1</td>\n",
       "      <td>1.0</td>\n",
       "    </tr>\n",
       "    <tr>\n",
       "      <th>2</th>\n",
       "      <td>1</td>\n",
       "      <td>18</td>\n",
       "      <td>1</td>\n",
       "      <td>1</td>\n",
       "      <td>22</td>\n",
       "      <td>1</td>\n",
       "      <td>1</td>\n",
       "      <td>1</td>\n",
       "      <td>1</td>\n",
       "      <td>10.0</td>\n",
       "      <td>...</td>\n",
       "      <td>NaN</td>\n",
       "      <td>3.0</td>\n",
       "      <td>1.0</td>\n",
       "      <td>1:29.257</td>\n",
       "      <td>89257.0</td>\n",
       "      <td>1.0</td>\n",
       "      <td>10.0</td>\n",
       "      <td>1.0</td>\n",
       "      <td>1</td>\n",
       "      <td>1.0</td>\n",
       "    </tr>\n",
       "    <tr>\n",
       "      <th>3</th>\n",
       "      <td>1</td>\n",
       "      <td>18</td>\n",
       "      <td>1</td>\n",
       "      <td>1</td>\n",
       "      <td>22</td>\n",
       "      <td>1</td>\n",
       "      <td>1</td>\n",
       "      <td>1</td>\n",
       "      <td>1</td>\n",
       "      <td>10.0</td>\n",
       "      <td>...</td>\n",
       "      <td>NaN</td>\n",
       "      <td>4.0</td>\n",
       "      <td>1.0</td>\n",
       "      <td>1:28.614</td>\n",
       "      <td>88614.0</td>\n",
       "      <td>1.0</td>\n",
       "      <td>10.0</td>\n",
       "      <td>1.0</td>\n",
       "      <td>1</td>\n",
       "      <td>1.0</td>\n",
       "    </tr>\n",
       "    <tr>\n",
       "      <th>4</th>\n",
       "      <td>1</td>\n",
       "      <td>18</td>\n",
       "      <td>1</td>\n",
       "      <td>1</td>\n",
       "      <td>22</td>\n",
       "      <td>1</td>\n",
       "      <td>1</td>\n",
       "      <td>1</td>\n",
       "      <td>1</td>\n",
       "      <td>10.0</td>\n",
       "      <td>...</td>\n",
       "      <td>NaN</td>\n",
       "      <td>5.0</td>\n",
       "      <td>1.0</td>\n",
       "      <td>1:28.556</td>\n",
       "      <td>88556.0</td>\n",
       "      <td>1.0</td>\n",
       "      <td>10.0</td>\n",
       "      <td>1.0</td>\n",
       "      <td>1</td>\n",
       "      <td>1.0</td>\n",
       "    </tr>\n",
       "  </tbody>\n",
       "</table>\n",
       "<p>5 rows × 66 columns</p>\n",
       "</div>"
      ],
      "text/plain": [
       "   resultId  raceId  driverId  constructorId number_x  grid position_3  \\\n",
       "0         1      18         1              1       22     1          1   \n",
       "1         1      18         1              1       22     1          1   \n",
       "2         1      18         1              1       22     1          1   \n",
       "3         1      18         1              1       22     1          1   \n",
       "4         1      18         1              1       22     1          1   \n",
       "\n",
       "  positionText_x  positionOrder  points_x  ...  milliseconds_y lap_4  \\\n",
       "0              1              1      10.0  ...             NaN   1.0   \n",
       "1              1              1      10.0  ...             NaN   2.0   \n",
       "2              1              1      10.0  ...             NaN   3.0   \n",
       "3              1              1      10.0  ...             NaN   4.0   \n",
       "4              1              1      10.0  ...             NaN   5.0   \n",
       "\n",
       "  position_4    time_4 milliseconds driverStandingsId points_y  position  \\\n",
       "0        1.0  2:01.465     121465.0               1.0     10.0       1.0   \n",
       "1        1.0  2:32.471     152471.0               1.0     10.0       1.0   \n",
       "2        1.0  1:29.257      89257.0               1.0     10.0       1.0   \n",
       "3        1.0  1:28.614      88614.0               1.0     10.0       1.0   \n",
       "4        1.0  1:28.556      88556.0               1.0     10.0       1.0   \n",
       "\n",
       "   positionText_y  wins  \n",
       "0               1   1.0  \n",
       "1               1   1.0  \n",
       "2               1   1.0  \n",
       "3               1   1.0  \n",
       "4               1   1.0  \n",
       "\n",
       "[5 rows x 66 columns]"
      ]
     },
     "execution_count": 10,
     "metadata": {},
     "output_type": "execute_result"
    }
   ],
   "source": [
    "df123456789.head()"
   ]
  },
  {
   "cell_type": "code",
   "execution_count": 11,
   "id": "f8d63949",
   "metadata": {
    "execution": {
     "iopub.execute_input": "2025-05-05T19:58:55.760688Z",
     "iopub.status.busy": "2025-05-05T19:58:55.760432Z",
     "iopub.status.idle": "2025-05-05T19:58:55.765337Z",
     "shell.execute_reply": "2025-05-05T19:58:55.764699Z"
    },
    "papermill": {
     "duration": 0.009927,
     "end_time": "2025-05-05T19:58:55.766598",
     "exception": false,
     "start_time": "2025-05-05T19:58:55.756671",
     "status": "completed"
    },
    "tags": []
   },
   "outputs": [
    {
     "data": {
      "text/plain": [
       "(944280, 66)"
      ]
     },
     "execution_count": 11,
     "metadata": {},
     "output_type": "execute_result"
    }
   ],
   "source": [
    "df123456789.shape"
   ]
  },
  {
   "cell_type": "code",
   "execution_count": null,
   "id": "64a0e77f",
   "metadata": {
    "papermill": {
     "duration": 0.003015,
     "end_time": "2025-05-05T19:58:55.773016",
     "exception": false,
     "start_time": "2025-05-05T19:58:55.770001",
     "status": "completed"
    },
    "tags": []
   },
   "outputs": [],
   "source": []
  }
 ],
 "metadata": {
  "kaggle": {
   "accelerator": "none",
   "dataSources": [
    {
     "datasetId": 468218,
     "sourceId": 10606304,
     "sourceType": "datasetVersion"
    }
   ],
   "dockerImageVersionId": 31012,
   "isGpuEnabled": false,
   "isInternetEnabled": true,
   "language": "python",
   "sourceType": "notebook"
  },
  "kernelspec": {
   "display_name": "Python 3",
   "language": "python",
   "name": "python3"
  },
  "language_info": {
   "codemirror_mode": {
    "name": "ipython",
    "version": 3
   },
   "file_extension": ".py",
   "mimetype": "text/x-python",
   "name": "python",
   "nbconvert_exporter": "python",
   "pygments_lexer": "ipython3",
   "version": "3.11.11"
  },
  "papermill": {
   "default_parameters": {},
   "duration": 13.489187,
   "end_time": "2025-05-05T19:58:56.495500",
   "environment_variables": {},
   "exception": null,
   "input_path": "__notebook__.ipynb",
   "output_path": "__notebook__.ipynb",
   "parameters": {},
   "start_time": "2025-05-05T19:58:43.006313",
   "version": "2.6.0"
  }
 },
 "nbformat": 4,
 "nbformat_minor": 5
}
